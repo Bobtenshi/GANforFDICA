{
 "cells": [
  {
   "cell_type": "code",
   "execution_count": null,
   "metadata": {},
   "outputs": [],
   "source": [
    "def whitening(stfted_X1):\n",
    "    \n",
    "    \n",
    "    import STFTpycode as st\n",
    "    import soundfile as sf\n",
    "    import librosa.display\n",
    "\n",
    "    import pylab as plt\n",
    "    %matplotlib inline\n",
    "\n",
    "    import numpy as np\n",
    "    from scipy import signal\n",
    "    from sklearn.decomposition import PCA\n",
    "    import torch\n",
    "    from torch.autograd import Variable\n",
    "    \n",
    "    epsilon=1e-5    \n",
    "    n,p=stfted_X1.shape\n",
    "    u,v = np.linalg.eig(np.dot(stfted_X1.T,stfted_X1)/n)  #u固有値 vベクトル\n",
    "    white_X1=np.dot(stfted_X1,np.dot(v,np.diag(1/(np.sqrt(u)+epsilon))))\n",
    "    \n",
    "    return  white_X1\n",
    "    #n,p=stfted_X2.shape\n",
    "    #u,v = np.linalg.eig(np.dot(stfted_X2.T,stfted_X2)/n)  #u固有値 vベクトル\n",
    "    #white_X2=np.dot(stfted_X2,np.dot(v,np.diag(1/(np.sqrt(u)+epsilon))))#pca白色化\n",
    "    \n",
    "    "
   ]
  }
 ],
 "metadata": {
  "kernelspec": {
   "display_name": "Python 3",
   "language": "python",
   "name": "python3"
  },
  "language_info": {
   "codemirror_mode": {
    "name": "ipython",
    "version": 3
   },
   "file_extension": ".py",
   "mimetype": "text/x-python",
   "name": "python",
   "nbconvert_exporter": "python",
   "pygments_lexer": "ipython3",
   "version": "3.7.3"
  }
 },
 "nbformat": 4,
 "nbformat_minor": 2
}

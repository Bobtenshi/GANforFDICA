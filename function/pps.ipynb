{
 "cells": [
  {
   "cell_type": "code",
   "execution_count": null,
   "metadata": {},
   "outputs": [],
   "source": [
    "def perfectPermuSolver(Wr,Y,S):\n",
    "    import STFTpycode as st\n",
    "    import soundfile as sf\n",
    "    import librosa.display\n",
    "\n",
    "    import pylab as plt\n",
    "    %matplotlib inline\n",
    "\n",
    "    import numpy as np\n",
    "    from scipy import signal\n",
    "    from sklearn.decomposition import PCA\n",
    "    import torch\n",
    "    from torch.autograd import Variable\n",
    "    import numpy as np\n",
    "    from scipy import signal\n",
    "    from sklearn.decomposition import PCA\n",
    "    import torch\n",
    "    from torch.autograd import Variable\n",
    "    \n",
    "    I,J,M = Y.shape\n",
    "    pW = np.zeros([M,M,I], dtype='float')\n",
    "    pW=torch.from_numpy(pW)\n",
    "    \n",
    "    \n",
    "    if M == 2:\n",
    "        for i in range(I):\n",
    "            dist1 = sum(np.power(Y[i,:,0] - S[i,:,0],2)) + sum(np.power(Y[i,:,1] - S[i,:,1],2))\n",
    "            dist2 = sum(np.power(Y[i,:,1] - S[i,:,0],2)) + sum(np.power(Y[i,:,0] - S[i,:,1],2))\n",
    "            \n",
    "            if dist1 <= dist2:\n",
    "                pW[:,:,i] = Wr[:,:,i]\n",
    "            else:\n",
    "                pW[0,:,i] = Wr[1,:,i]\n",
    "                pW[1,:,i] = Wr[0,:,i]\n",
    "    \n",
    "    return pW"
   ]
  }
 ],
 "metadata": {
  "kernelspec": {
   "display_name": "Python 3",
   "language": "python",
   "name": "python3"
  },
  "language_info": {
   "codemirror_mode": {
    "name": "ipython",
    "version": 3
   },
   "file_extension": ".py",
   "mimetype": "text/x-python",
   "name": "python",
   "nbconvert_exporter": "python",
   "pygments_lexer": "ipython3",
   "version": "3.7.3"
  }
 },
 "nbformat": 4,
 "nbformat_minor": 2
}
